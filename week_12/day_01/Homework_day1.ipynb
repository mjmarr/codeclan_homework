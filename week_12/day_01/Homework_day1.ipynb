{
 "cells": [
  {
   "cell_type": "markdown",
   "id": "4a9526a2",
   "metadata": {},
   "source": [
    "# Homework"
   ]
  },
  {
   "cell_type": "markdown",
   "id": "7aea3ced",
   "metadata": {},
   "source": [
    "## MVP\n",
    "## Q1\n"
   ]
  },
  {
   "cell_type": "code",
   "execution_count": 4,
   "id": "29142bb1",
   "metadata": {},
   "outputs": [
    {
     "data": {
      "text/plain": [
       "['spam', 'ham', 'eggs']"
      ]
     },
     "execution_count": 4,
     "metadata": {},
     "output_type": "execute_result"
    }
   ],
   "source": [
    "shopping = ['spam','ham','eggs','ham']\n",
    "shopping"
   ]
  },
  {
   "cell_type": "code",
   "execution_count": 5,
   "id": "eef38d05",
   "metadata": {},
   "outputs": [
    {
     "data": {
      "text/plain": [
       "['spam', 'ham', 'eggs']"
      ]
     },
     "execution_count": 5,
     "metadata": {},
     "output_type": "execute_result"
    }
   ],
   "source": [
    "shopping[0:3]"
   ]
  },
  {
   "cell_type": "code",
   "execution_count": 7,
   "id": "792a89f0",
   "metadata": {},
   "outputs": [
    {
     "data": {
      "text/plain": [
       "'ham'"
      ]
     },
     "execution_count": 7,
     "metadata": {},
     "output_type": "execute_result"
    }
   ],
   "source": [
    "shopping[-1]"
   ]
  },
  {
   "cell_type": "markdown",
   "id": "ad394f4e",
   "metadata": {},
   "source": [
    "## Q2"
   ]
  },
  {
   "cell_type": "code",
   "execution_count": 8,
   "id": "a9a49401",
   "metadata": {},
   "outputs": [
    {
     "data": {
      "text/plain": [
       "['Croy',\n",
       " 'Cumbernauld',\n",
       " 'Falkirk High',\n",
       " 'Linlithgow',\n",
       " 'Livingston',\n",
       " 'Haymarket']"
      ]
     },
     "execution_count": 8,
     "metadata": {},
     "output_type": "execute_result"
    }
   ],
   "source": [
    "stops = [\"Croy\", \"Cumbernauld\", \"Falkirk High\", \"Linlithgow\", \"Livingston\", \"Haymarket\"]\n",
    "stops"
   ]
  },
  {
   "cell_type": "code",
   "execution_count": 9,
   "id": "0951da91",
   "metadata": {},
   "outputs": [
    {
     "data": {
      "text/plain": [
       "['Croy',\n",
       " 'Cumbernauld',\n",
       " 'Falkirk High',\n",
       " 'Linlithgow',\n",
       " 'Livingston',\n",
       " 'Haymarket',\n",
       " 'Edinburgh Waverley']"
      ]
     },
     "execution_count": 9,
     "metadata": {},
     "output_type": "execute_result"
    }
   ],
   "source": [
    "stops.append(\"Edinburgh Waverley\")\n",
    "stops"
   ]
  },
  {
   "cell_type": "code",
   "execution_count": 10,
   "id": "f3ba7261",
   "metadata": {},
   "outputs": [
    {
     "data": {
      "text/plain": [
       "['Queen Street',\n",
       " 'Croy',\n",
       " 'Cumbernauld',\n",
       " 'Falkirk High',\n",
       " 'Linlithgow',\n",
       " 'Livingston',\n",
       " 'Haymarket',\n",
       " 'Edinburgh Waverley']"
      ]
     },
     "execution_count": 10,
     "metadata": {},
     "output_type": "execute_result"
    }
   ],
   "source": [
    "stops.insert(0, \"Queen Street\")\n",
    "stops"
   ]
  },
  {
   "cell_type": "code",
   "execution_count": 12,
   "id": "1835119f",
   "metadata": {},
   "outputs": [
    {
     "data": {
      "text/plain": [
       "1"
      ]
     },
     "execution_count": 12,
     "metadata": {},
     "output_type": "execute_result"
    }
   ],
   "source": [
    "stops.index(\"Croy\")"
   ]
  },
  {
   "cell_type": "code",
   "execution_count": 13,
   "id": "d37ddc07",
   "metadata": {},
   "outputs": [
    {
     "data": {
      "text/plain": [
       "['Queen Street',\n",
       " 'Croy',\n",
       " 'Cumbernauld',\n",
       " 'Falkirk High',\n",
       " 'Polmont',\n",
       " 'Linlithgow',\n",
       " 'Livingston',\n",
       " 'Haymarket',\n",
       " 'Edinburgh Waverley']"
      ]
     },
     "execution_count": 13,
     "metadata": {},
     "output_type": "execute_result"
    }
   ],
   "source": [
    "stops.insert(4, \"Polmont\")\n",
    "stops"
   ]
  },
  {
   "cell_type": "code",
   "execution_count": 14,
   "id": "0f20740c",
   "metadata": {},
   "outputs": [
    {
     "data": {
      "text/plain": [
       "['Queen Street',\n",
       " 'Croy',\n",
       " 'Cumbernauld',\n",
       " 'Falkirk High',\n",
       " 'Polmont',\n",
       " 'Linlithgow',\n",
       " 'Livingston',\n",
       " 'Edinburgh Waverley']"
      ]
     },
     "execution_count": 14,
     "metadata": {},
     "output_type": "execute_result"
    }
   ],
   "source": [
    "stops.remove(\"Haymarket\")\n",
    "stops"
   ]
  },
  {
   "cell_type": "code",
   "execution_count": 15,
   "id": "4c3056ce",
   "metadata": {},
   "outputs": [
    {
     "ename": "NameError",
     "evalue": "name 'stops' is not defined",
     "output_type": "error",
     "traceback": [
      "\u001b[1;31m---------------------------------------------------------------------------\u001b[0m",
      "\u001b[1;31mNameError\u001b[0m                                 Traceback (most recent call last)",
      "Cell \u001b[1;32mIn[15], line 2\u001b[0m\n\u001b[0;32m      1\u001b[0m \u001b[38;5;28;01mdel\u001b[39;00m stops\n\u001b[1;32m----> 2\u001b[0m \u001b[43mstops\u001b[49m\n",
      "\u001b[1;31mNameError\u001b[0m: name 'stops' is not defined"
     ]
    }
   ],
   "source": [
    "del stops\n",
    "stops"
   ]
  },
  {
   "cell_type": "markdown",
   "id": "7ae1d8b7",
   "metadata": {},
   "source": [
    "## Q3"
   ]
  },
  {
   "cell_type": "code",
   "execution_count": 16,
   "id": "d753260e",
   "metadata": {},
   "outputs": [],
   "source": [
    "person = {\"name\": \"Steph\", \"age\": 31, \"Instructor\" : True}"
   ]
  },
  {
   "cell_type": "code",
   "execution_count": 17,
   "id": "c1cb942d",
   "metadata": {},
   "outputs": [
    {
     "data": {
      "text/plain": [
       "dict_keys(['name', 'age', 'Instructor'])"
      ]
     },
     "execution_count": 17,
     "metadata": {},
     "output_type": "execute_result"
    }
   ],
   "source": [
    "person.keys()"
   ]
  },
  {
   "cell_type": "code",
   "execution_count": 18,
   "id": "584f0a45",
   "metadata": {},
   "outputs": [
    {
     "data": {
      "text/plain": [
       "dict_values(['Steph', 31, True])"
      ]
     },
     "execution_count": 18,
     "metadata": {},
     "output_type": "execute_result"
    }
   ],
   "source": [
    "person.values()"
   ]
  },
  {
   "cell_type": "code",
   "execution_count": 19,
   "id": "80fba683",
   "metadata": {
    "scrolled": true
   },
   "outputs": [
    {
     "data": {
      "text/plain": [
       "dict_items([('name', 'Steph'), ('age', 31), ('Instructor', True)])"
      ]
     },
     "execution_count": 19,
     "metadata": {},
     "output_type": "execute_result"
    }
   ],
   "source": [
    "person.items()"
   ]
  },
  {
   "cell_type": "code",
   "execution_count": 20,
   "id": "61f976c8",
   "metadata": {},
   "outputs": [
    {
     "data": {
      "text/plain": [
       "dict_items([('name', 'Steph'), ('age', 31), ('Instructor', True), ('email', 'steph@codeclan.com')])"
      ]
     },
     "execution_count": 20,
     "metadata": {},
     "output_type": "execute_result"
    }
   ],
   "source": [
    "person[\"email\"] = \"steph@codeclan.com\"\n",
    "person.items()"
   ]
  },
  {
   "cell_type": "code",
   "execution_count": 21,
   "id": "b724c88c",
   "metadata": {},
   "outputs": [
    {
     "data": {
      "text/plain": [
       "dict_items([('name', 'Steph'), ('age', 31), ('email', 'steph@codeclan.com')])"
      ]
     },
     "execution_count": 21,
     "metadata": {},
     "output_type": "execute_result"
    }
   ],
   "source": [
    "person.pop(\"Instructor\")\n",
    "person.items()"
   ]
  },
  {
   "cell_type": "markdown",
   "id": "bda1c0b0",
   "metadata": {},
   "source": [
    "## Q4"
   ]
  },
  {
   "cell_type": "code",
   "execution_count": 22,
   "id": "1b0ad502",
   "metadata": {},
   "outputs": [],
   "source": [
    "numbers = [1, 6, 2, 2, 7, 1, 6, 13, 99, 7]"
   ]
  },
  {
   "cell_type": "code",
   "execution_count": 30,
   "id": "128f5a46",
   "metadata": {},
   "outputs": [
    {
     "name": "stdout",
     "output_type": "stream",
     "text": [
      "6 2 2 6 \n",
      "lambda test: All even numbers:  [6, 2, 2, 6]\n"
     ]
    }
   ],
   "source": [
    "# normal way\n",
    "for n in numbers:\n",
    "    if n % 2 == 0:\n",
    "        print(n, end =\" \")\n",
    "\n",
    "# lambda function attempt...\n",
    "even_numbers = list(filter(lambda x: (x % 2 == 0), numbers))\n",
    "print(\"\\nlambda test: All even numbers: \", even_numbers)"
   ]
  },
  {
   "cell_type": "code",
   "execution_count": 33,
   "id": "711f8619",
   "metadata": {},
   "outputs": [
    {
     "name": "stdout",
     "output_type": "stream",
     "text": [
      "difference between \n",
      "max:99 and min:1 \n",
      "is 98\n"
     ]
    }
   ],
   "source": [
    "print(f\"difference between \\nmax:{max(numbers)} and min:{min(numbers)} \\nis {max(numbers) - min(numbers)}\")"
   ]
  },
  {
   "cell_type": "code",
   "execution_count": 39,
   "id": "700ebe26",
   "metadata": {},
   "outputs": [
    {
     "name": "stdout",
     "output_type": "stream",
     "text": [
      "True\n",
      "False\n",
      "True\n"
     ]
    }
   ],
   "source": [
    "def check_22(lst):\n",
    "    for i in range(len(lst)-1):\n",
    "        if (lst[i] == 2) & (lst[i+1] == 2):\n",
    "           return True\n",
    "    return False\n",
    "\n",
    "print(check_22(numbers))\n",
    "print(check_22([1,2,3,4,5]))\n",
    "print(check_22([1,2,3,2,2]))"
   ]
  },
  {
   "cell_type": "code",
   "execution_count": 45,
   "id": "24a55ae2",
   "metadata": {},
   "outputs": [
    {
     "name": "stdout",
     "output_type": "stream",
     "text": [
      "22\n"
     ]
    }
   ],
   "source": [
    "sum_of_nums = 0\n",
    "\n",
    "def sum_of_nums(nums):\n",
    "    \n",
    "    sum_of_nums = 0\n",
    "    flag = True\n",
    "    \n",
    "    for n in nums:\n",
    "\n",
    "        if n == 6:\n",
    "            flag = False\n",
    "        elif n == 7:\n",
    "            flag = True\n",
    "            continue\n",
    "        \n",
    "        if flag == True:\n",
    "            sum_of_nums += n\n",
    "            \n",
    "    return(sum_of_nums)\n",
    "\n",
    "print(sum_of_nums([11, 6, 4, 99, 7, 11]))"
   ]
  },
  {
   "cell_type": "markdown",
   "id": "c428fdf8",
   "metadata": {},
   "source": [
    "## Q5"
   ]
  },
  {
   "cell_type": "code",
   "execution_count": 48,
   "id": "88e99c1f",
   "metadata": {},
   "outputs": [],
   "source": [
    "python_is_fun = True\n",
    "python_is_weird = True"
   ]
  },
  {
   "cell_type": "code",
   "execution_count": 49,
   "id": "5d4119db",
   "metadata": {},
   "outputs": [
    {
     "name": "stdout",
     "output_type": "stream",
     "text": [
      "expected: Woo Python! ~ result:Woo Python!\n",
      "expected: Woo Python! ~ result:Woo Python!\n",
      "expected: Woo Python! ~ result:Woo Python!\n",
      "expected: Python is not for me! ~ result:Python is not for me!\n"
     ]
    }
   ],
   "source": [
    "def woo_python(is_fun, is_weird):\n",
    "    if (is_fun == False) & (is_weird == False):\n",
    "        return(\"Python is not for me!\")\n",
    "    else:\n",
    "        return(\"Woo Python!\")\n",
    "\n",
    "print(f\"expected: Woo Python! ~ result:{woo_python(python_is_fun,python_is_weird)}\")    \n",
    "print(f\"expected: Woo Python! ~ result:{woo_python(False,True)}\")\n",
    "print(f\"expected: Woo Python! ~ result:{woo_python(True,False)}\")\n",
    "print(f\"expected: Python is not for me! ~ result:{woo_python(False,False)}\")"
   ]
  },
  {
   "cell_type": "markdown",
   "id": "cc4bcc2e",
   "metadata": {},
   "source": [
    "## Q6"
   ]
  },
  {
   "cell_type": "code",
   "execution_count": 54,
   "id": "3b3fa75b",
   "metadata": {},
   "outputs": [],
   "source": [
    "chickens = [\n",
    "  { \"name\": \"Margaret\", \"age\": 2, \"eggs\": 0 },\n",
    "  { \"name\": \"Hetty\", \"age\": 1, \"eggs\": 2 },\n",
    "  { \"name\": \"Henrietta\", \"age\": 3, \"eggs\": 1 },\n",
    "  { \"name\": \"Audrey\", \"age\": 2, \"eggs\": 0 },\n",
    "  { \"name\": \"Mabel\", \"age\": 5, \"eggs\": 1 },\n",
    "]"
   ]
  },
  {
   "cell_type": "code",
   "execution_count": 55,
   "id": "d22bd8d9",
   "metadata": {},
   "outputs": [
    {
     "data": {
      "text/plain": [
       "'4 eggs were collected'"
      ]
     },
     "execution_count": 55,
     "metadata": {},
     "output_type": "execute_result"
    }
   ],
   "source": [
    "def eggs_collected(egg_lst):\n",
    "    total_eggs = 0\n",
    "    \n",
    "    for chicken in egg_lst:\n",
    "        total_eggs += chicken[\"eggs\"]\n",
    "        chicken[\"eggs\"] = 0 # eggs have been collected\n",
    "\n",
    "    return(f\"{total_eggs} eggs were collected\")\n",
    "\n",
    "eggs_collected(chickens)"
   ]
  },
  {
   "cell_type": "markdown",
   "id": "e33453c3",
   "metadata": {},
   "source": [
    "# Extensions\n",
    "## Q1"
   ]
  },
  {
   "cell_type": "code",
   "execution_count": 56,
   "id": "266c97db",
   "metadata": {},
   "outputs": [],
   "source": [
    "united_kingdom = [\n",
    "  {\n",
    "    \"name\": \"Scotland\",\n",
    "    \"population\": 5295000,\n",
    "    \"capital\": \"Edinburgh\"\n",
    "  },\n",
    "  {\n",
    "    \"name\": \"Wales\",\n",
    "    \"population\": 3063000,\n",
    "    \"capital\": \"Swansea\"\n",
    "  },\n",
    "  {\n",
    "    \"name\": \"England\",\n",
    "    \"population\": 53010000,\n",
    "    \"capital\": \"London\"\n",
    "  }\n",
    "]"
   ]
  },
  {
   "cell_type": "code",
   "execution_count": 57,
   "id": "f1e602bd",
   "metadata": {},
   "outputs": [
    {
     "name": "stdout",
     "output_type": "stream",
     "text": [
      "[{'name': 'Scotland', 'population': 5295000, 'capital': 'Edinburgh'}, {'name': 'Wales', 'population': 3063000, 'capital': 'Cardiff'}, {'name': 'England', 'population': 53010000, 'capital': 'London'}]\n"
     ]
    }
   ],
   "source": [
    "united_kingdom[1][\"capital\"] = \"Cardiff\"\n",
    "\n",
    "print(united_kingdom)"
   ]
  },
  {
   "cell_type": "code",
   "execution_count": 58,
   "id": "2c04dd29",
   "metadata": {},
   "outputs": [
    {
     "name": "stdout",
     "output_type": "stream",
     "text": [
      "[{'name': 'Scotland', 'population': 5295000, 'capital': 'Edinburgh'}, {'name': 'Wales', 'population': 3063000, 'capital': 'Cardiff'}, {'name': 'England', 'population': 53010000, 'capital': 'London'}, {'name': 'Northern Ireland', 'population': 1811000, 'capital': 'Belfast'}]\n"
     ]
    }
   ],
   "source": [
    "united_kingdom.append({\n",
    "    \"name\": \"Northern Ireland\",\n",
    "    \"population\": 1811000,\n",
    "    \"capital\": \"Belfast\"\n",
    "  })\n",
    "\n",
    "print(united_kingdom)"
   ]
  },
  {
   "cell_type": "code",
   "execution_count": 59,
   "id": "e2228195",
   "metadata": {},
   "outputs": [
    {
     "name": "stdout",
     "output_type": "stream",
     "text": [
      "Scotland\n",
      "Wales\n",
      "England\n",
      "Northern Ireland\n"
     ]
    }
   ],
   "source": [
    "for item in united_kingdom:\n",
    "    print(item[\"name\"])"
   ]
  },
  {
   "cell_type": "code",
   "execution_count": 60,
   "id": "ecf76690",
   "metadata": {},
   "outputs": [
    {
     "name": "stdout",
     "output_type": "stream",
     "text": [
      "total population in the uk:63179000\n"
     ]
    }
   ],
   "source": [
    "total_pop = 0\n",
    "for item in united_kingdom:\n",
    "    total_pop += item[\"population\"]\n",
    "\n",
    "print(f\"total population in the uk:{total_pop}\")"
   ]
  },
  {
   "cell_type": "markdown",
   "id": "1fb0404c",
   "metadata": {},
   "source": [
    "## Q2"
   ]
  },
  {
   "cell_type": "code",
   "execution_count": 61,
   "id": "9038ff43",
   "metadata": {},
   "outputs": [],
   "source": [
    "users = {\n",
    "  \"Jonathan\": {\n",
    "    \"twitter\": \"jonnyt\",\n",
    "    \"lottery_numbers\": [6, 12, 49, 33, 45, 20],\n",
    "    \"home_town\": \"Stirling\",\n",
    "    \"pets\": [\n",
    "    {\n",
    "      \"name\": \"fluffy\",\n",
    "      \"species\": \"cat\"\n",
    "    },\n",
    "    {\n",
    "      \"name\": \"fido\",\n",
    "      \"species\": \"dog\"\n",
    "    },\n",
    "    {\n",
    "      \"name\": \"spike\",\n",
    "      \"species\": \"dog\"\n",
    "    }\n",
    "  ]\n",
    "  },\n",
    "  \"Erik\": {\n",
    "    \"twitter\": \"eriksf\",\n",
    "    \"lottery_numbers\": [18, 34, 8, 11, 24],\n",
    "    \"home_town\": \"Linlithgow\",\n",
    "    \"pets\": [\n",
    "    {\n",
    "      \"name\": \"nemo\",\n",
    "      \"species\": \"fish\"\n",
    "    },\n",
    "    {\n",
    "      \"name\": \"kevin\",\n",
    "      \"species\": \"fish\"\n",
    "    },\n",
    "    {\n",
    "      \"name\": \"spike\",\n",
    "      \"species\": \"dog\"\n",
    "    },\n",
    "    {\n",
    "      \"name\": \"rupert\",\n",
    "      \"species\": \"parrot\"\n",
    "    }\n",
    "  ]\n",
    "  },\n",
    "  \"Avril\": {\n",
    "    \"twitter\": \"bridgpally\",\n",
    "    \"lottery_numbers\": [12, 14, 33, 38, 9, 25],\n",
    "    \"home_town\": \"Dunbar\",\n",
    "    \"pets\": [\n",
    "      {\n",
    "        \"name\": \"monty\",\n",
    "        \"species\": \"snake\"\n",
    "      }\n",
    "    ]\n",
    "  }\n",
    "}"
   ]
  },
  {
   "cell_type": "code",
   "execution_count": 62,
   "id": "1c83c250",
   "metadata": {},
   "outputs": [
    {
     "data": {
      "text/plain": [
       "'jonnyt'"
      ]
     },
     "execution_count": 62,
     "metadata": {},
     "output_type": "execute_result"
    }
   ],
   "source": [
    "users[\"Jonathan\"][\"twitter\"]"
   ]
  },
  {
   "cell_type": "code",
   "execution_count": 63,
   "id": "c424d7bf",
   "metadata": {},
   "outputs": [
    {
     "data": {
      "text/plain": [
       "'Linlithgow'"
      ]
     },
     "execution_count": 63,
     "metadata": {},
     "output_type": "execute_result"
    }
   ],
   "source": [
    "users[\"Erik\"][\"home_town\"]"
   ]
  },
  {
   "cell_type": "code",
   "execution_count": 64,
   "id": "87fe5fcd",
   "metadata": {},
   "outputs": [
    {
     "data": {
      "text/plain": [
       "[18, 34, 8, 11, 24]"
      ]
     },
     "execution_count": 64,
     "metadata": {},
     "output_type": "execute_result"
    }
   ],
   "source": [
    "users[\"Erik\"][\"lottery_numbers\"]"
   ]
  },
  {
   "cell_type": "code",
   "execution_count": 67,
   "id": "0b17f04b",
   "metadata": {},
   "outputs": [
    {
     "data": {
      "text/plain": [
       "'snake'"
      ]
     },
     "execution_count": 67,
     "metadata": {},
     "output_type": "execute_result"
    }
   ],
   "source": [
    "users[\"Avril\"][\"pets\"][0][\"species\"]"
   ]
  },
  {
   "cell_type": "code",
   "execution_count": 68,
   "id": "93c6e7df",
   "metadata": {},
   "outputs": [
    {
     "data": {
      "text/plain": [
       "8"
      ]
     },
     "execution_count": 68,
     "metadata": {},
     "output_type": "execute_result"
    }
   ],
   "source": [
    "min(users[\"Erik\"][\"lottery_numbers\"])"
   ]
  },
  {
   "cell_type": "code",
   "execution_count": 72,
   "id": "feb64f43",
   "metadata": {},
   "outputs": [
    {
     "name": "stdout",
     "output_type": "stream",
     "text": [
      "Avril lottery numbers:[12, 14, 33, 38, 9, 25] \n",
      "of which are even numbers:[12, 14, 38]\n"
     ]
    }
   ],
   "source": [
    "def is_even(x): return x % 2 == 0\n",
    "\n",
    "lot_nums_avril = users[\"Avril\"][\"lottery_numbers\"]\n",
    "evens = list(filter(is_even, lot_nums_avril))\n",
    " \n",
    "print(f\"Avril lottery numbers:{lot_nums_avril} \\nof which are even numbers:{evens}\")"
   ]
  },
  {
   "cell_type": "code",
   "execution_count": 73,
   "id": "8c107956",
   "metadata": {},
   "outputs": [
    {
     "data": {
      "text/plain": [
       "[18, 34, 8, 11, 24, 7]"
      ]
     },
     "execution_count": 73,
     "metadata": {},
     "output_type": "execute_result"
    }
   ],
   "source": [
    "users[\"Erik\"][\"lottery_numbers\"].append(7)\n",
    "users[\"Erik\"][\"lottery_numbers\"]"
   ]
  },
  {
   "cell_type": "code",
   "execution_count": 74,
   "id": "45de0e50",
   "metadata": {},
   "outputs": [
    {
     "data": {
      "text/plain": [
       "'Edinburgh'"
      ]
     },
     "execution_count": 74,
     "metadata": {},
     "output_type": "execute_result"
    }
   ],
   "source": [
    "users[\"Erik\"][\"home_town\"] = \"Edinburgh\"\n",
    "users[\"Erik\"][\"home_town\"]"
   ]
  },
  {
   "cell_type": "code",
   "execution_count": 81,
   "id": "eb9ff7da",
   "metadata": {},
   "outputs": [
    {
     "data": {
      "text/plain": [
       "[{'name': 'nemo', 'species': 'fish'},\n",
       " {'name': 'kevin', 'species': 'fish'},\n",
       " {'name': 'spike', 'species': 'dog'},\n",
       " {'name': 'rupert', 'species': 'parrot'},\n",
       " {'name': 'Fluffy', 'species': 'dog'}]"
      ]
     },
     "execution_count": 81,
     "metadata": {},
     "output_type": "execute_result"
    }
   ],
   "source": [
    "users[\"Erik\"][\"pets\"].append({\n",
    "    'name':'Fluffy',\n",
    "    'species':'dog'\n",
    "})\n",
    "\n",
    "users[\"Erik\"][\"pets\"]"
   ]
  },
  {
   "cell_type": "code",
   "execution_count": 82,
   "id": "e2e44048",
   "metadata": {},
   "outputs": [],
   "source": [
    "users[\"Jeff\"] = {\n",
    "    \"twitter\": \"mynameis\",\n",
    "    \"lottery_numbers\": [1, 2, 3, 4, 5, 6],\n",
    "    \"home_town\": \"Edinburgh\",\n",
    "    \"pets\": [\n",
    "      {\n",
    "        \"name\": \"fenton\",\n",
    "        \"species\": \"dog\"\n",
    "      }\n",
    "    ]}"
   ]
  },
  {
   "cell_type": "code",
   "execution_count": 83,
   "id": "f80a858e",
   "metadata": {
    "scrolled": true
   },
   "outputs": [
    {
     "name": "stdout",
     "output_type": "stream",
     "text": [
      "{'Jonathan': {'twitter': 'jonnyt', 'lottery_numbers': [6, 12, 49, 33, 45, 20], 'home_town': 'Stirling', 'pets': [{'name': 'fluffy', 'species': 'cat'}, {'name': 'fido', 'species': 'dog'}, {'name': 'spike', 'species': 'dog'}]}, 'Erik': {'twitter': 'eriksf', 'lottery_numbers': [18, 34, 8, 11, 24, 7], 'home_town': 'Edinburgh', 'pets': [{'name': 'nemo', 'species': 'fish'}, {'name': 'kevin', 'species': 'fish'}, {'name': 'spike', 'species': 'dog'}, {'name': 'rupert', 'species': 'parrot'}, {'name': 'Fluffy', 'species': 'dog'}]}, 'Avril': {'twitter': 'bridgpally', 'lottery_numbers': [12, 14, 33, 38, 9, 25], 'home_town': 'Dunbar', 'pets': [{'name': 'monty', 'species': 'snake'}]}, 'Jeff': {'twitter': 'mynameis', 'lottery_numbers': [1, 2, 3, 4, 5, 6], 'home_town': 'Edinburgh', 'pets': [{'name': 'fenton', 'species': 'dog'}]}}\n"
     ]
    }
   ],
   "source": [
    "print(users)"
   ]
  },
  {
   "cell_type": "code",
   "execution_count": 84,
   "id": "b96c438e",
   "metadata": {
    "scrolled": true
   },
   "outputs": [
    {
     "data": {
      "text/plain": [
       "{'twitter': 'mynameis',\n",
       " 'lottery_numbers': [1, 2, 3, 4, 5, 6],\n",
       " 'home_town': 'Edinburgh',\n",
       " 'pets': [{'name': 'fenton', 'species': 'dog'}]}"
      ]
     },
     "execution_count": 84,
     "metadata": {},
     "output_type": "execute_result"
    }
   ],
   "source": [
    "users[\"Jeff\"]"
   ]
  },
  {
   "cell_type": "code",
   "execution_count": null,
   "id": "aaa5f31c",
   "metadata": {},
   "outputs": [],
   "source": []
  }
 ],
 "metadata": {
  "kernelspec": {
   "display_name": "Python 3 (ipykernel)",
   "language": "python",
   "name": "python3"
  },
  "language_info": {
   "codemirror_mode": {
    "name": "ipython",
    "version": 3
   },
   "file_extension": ".py",
   "mimetype": "text/x-python",
   "name": "python",
   "nbconvert_exporter": "python",
   "pygments_lexer": "ipython3",
   "version": "3.9.7"
  }
 },
 "nbformat": 4,
 "nbformat_minor": 5
}
